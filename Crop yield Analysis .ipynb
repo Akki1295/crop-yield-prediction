{
 "cells": [
  {
   "cell_type": "markdown",
   "metadata": {},
   "source": [
    "<h1 align=center><font size = 6> Crop Yield Prediction. </font></h1>"
   ]
  },
  {
   "cell_type": "markdown",
   "metadata": {},
   "source": [
    "## import required libraries. "
   ]
  },
  {
   "cell_type": "code",
   "execution_count": 1,
   "metadata": {},
   "outputs": [
    {
     "name": "stdout",
     "output_type": "stream",
     "text": [
      "All the required libraries are imported.....!\n"
     ]
    }
   ],
   "source": [
    "import numpy as np    #Library to handle data in vectorized manner.\n",
    "import pandas as pd   #library for data analysis.\n",
    "\n",
    "#Plotting libray matplotlib and associated ploting modules.\n",
    "import matplotlib.pyplot as plt\n",
    "import matplotlib.cm as cm\n",
    "import matplotlib.colors as colors\n",
    "\n",
    "\n",
    "%matplotlib inline\n",
    "print('All the required libraries are imported.....!')"
   ]
  },
  {
   "cell_type": "markdown",
   "metadata": {},
   "source": [
    "## Initial data gathering and cleaning."
   ]
  },
  {
   "cell_type": "markdown",
   "metadata": {},
   "source": [
    "### read crop production dataset into pandas dataframe."
   ]
  },
  {
   "cell_type": "code",
   "execution_count": 2,
   "metadata": {},
   "outputs": [
    {
     "data": {
      "text/html": [
       "<div>\n",
       "<style scoped>\n",
       "    .dataframe tbody tr th:only-of-type {\n",
       "        vertical-align: middle;\n",
       "    }\n",
       "\n",
       "    .dataframe tbody tr th {\n",
       "        vertical-align: top;\n",
       "    }\n",
       "\n",
       "    .dataframe thead th {\n",
       "        text-align: right;\n",
       "    }\n",
       "</style>\n",
       "<table border=\"1\" class=\"dataframe\">\n",
       "  <thead>\n",
       "    <tr style=\"text-align: right;\">\n",
       "      <th></th>\n",
       "      <th>District_name</th>\n",
       "      <th>RICE</th>\n",
       "      <th>WHEAT</th>\n",
       "      <th>JOWARR</th>\n",
       "      <th>BAJRA</th>\n",
       "      <th>MAIZE</th>\n",
       "      <th>RAGI</th>\n",
       "      <th>GRAM</th>\n",
       "      <th>TUR</th>\n",
       "      <th>UDID</th>\n",
       "      <th>MUNG</th>\n",
       "    </tr>\n",
       "  </thead>\n",
       "  <tbody>\n",
       "    <tr>\n",
       "      <th>0</th>\n",
       "      <td>Ahemadnagar</td>\n",
       "      <td>21165</td>\n",
       "      <td>81820</td>\n",
       "      <td>290528</td>\n",
       "      <td>223329</td>\n",
       "      <td>120126</td>\n",
       "      <td>2085</td>\n",
       "      <td>28000</td>\n",
       "      <td>11705</td>\n",
       "      <td>6161</td>\n",
       "      <td>328</td>\n",
       "    </tr>\n",
       "    <tr>\n",
       "      <th>1</th>\n",
       "      <td>Akola</td>\n",
       "      <td>0</td>\n",
       "      <td>30569</td>\n",
       "      <td>104344</td>\n",
       "      <td>0</td>\n",
       "      <td>0</td>\n",
       "      <td>0</td>\n",
       "      <td>12632</td>\n",
       "      <td>20821</td>\n",
       "      <td>7377</td>\n",
       "      <td>28576</td>\n",
       "    </tr>\n",
       "    <tr>\n",
       "      <th>2</th>\n",
       "      <td>Amravati</td>\n",
       "      <td>4773</td>\n",
       "      <td>15209</td>\n",
       "      <td>0</td>\n",
       "      <td>0</td>\n",
       "      <td>0</td>\n",
       "      <td>0</td>\n",
       "      <td>66270</td>\n",
       "      <td>110996</td>\n",
       "      <td>3134</td>\n",
       "      <td>26431</td>\n",
       "    </tr>\n",
       "    <tr>\n",
       "      <th>3</th>\n",
       "      <td>Aurangabad</td>\n",
       "      <td>0</td>\n",
       "      <td>74633</td>\n",
       "      <td>79673</td>\n",
       "      <td>80819</td>\n",
       "      <td>417410</td>\n",
       "      <td>0</td>\n",
       "      <td>28673</td>\n",
       "      <td>28388</td>\n",
       "      <td>667</td>\n",
       "      <td>862</td>\n",
       "    </tr>\n",
       "    <tr>\n",
       "      <th>4</th>\n",
       "      <td>Beed</td>\n",
       "      <td>189</td>\n",
       "      <td>50908</td>\n",
       "      <td>119590</td>\n",
       "      <td>103479</td>\n",
       "      <td>6048</td>\n",
       "      <td>0</td>\n",
       "      <td>28066</td>\n",
       "      <td>30039</td>\n",
       "      <td>8738</td>\n",
       "      <td>2538</td>\n",
       "    </tr>\n",
       "  </tbody>\n",
       "</table>\n",
       "</div>"
      ],
      "text/plain": [
       "  District_name   RICE  WHEAT  JOWARR   BAJRA   MAIZE  RAGI   GRAM     TUR  \\\n",
       "0   Ahemadnagar  21165  81820  290528  223329  120126  2085  28000   11705   \n",
       "1         Akola      0  30569  104344       0       0     0  12632   20821   \n",
       "2      Amravati   4773  15209       0       0       0     0  66270  110996   \n",
       "3    Aurangabad      0  74633   79673   80819  417410     0  28673   28388   \n",
       "4          Beed    189  50908  119590  103479    6048     0  28066   30039   \n",
       "\n",
       "   UDID   MUNG  \n",
       "0  6161    328  \n",
       "1  7377  28576  \n",
       "2  3134  26431  \n",
       "3   667    862  \n",
       "4  8738   2538  "
      ]
     },
     "execution_count": 2,
     "metadata": {},
     "output_type": "execute_result"
    }
   ],
   "source": [
    "\n",
    "df_crop = pd.read_csv(\"crop_production.csv\")\n",
    "\n",
    "# Now look at the data frame. \n",
    "df_crop.head()"
   ]
  },
  {
   "cell_type": "code",
   "execution_count": null,
   "metadata": {},
   "outputs": [],
   "source": []
  },
  {
   "cell_type": "markdown",
   "metadata": {},
   "source": [
    "#### replace blank cells with nan and remove these nan values."
   ]
  },
  {
   "cell_type": "code",
   "execution_count": 3,
   "metadata": {},
   "outputs": [
    {
     "name": "stdout",
     "output_type": "stream",
     "text": [
      "Drop Sucessfull\n",
      "Size of the data frame is : (33, 11)\n"
     ]
    }
   ],
   "source": [
    "nan_value = float(\"NaN\")\n",
    "df_crop.replace(\"\", nan_value, inplace=True)\n",
    "df_crop.dropna(subset = [\"District_name\"], inplace=True)\n",
    "print(\"Drop Sucessfull\")\n",
    "#now look at the shape of our data frame.\n",
    "print(\"Size of the data frame is :\", df_crop.shape)"
   ]
  },
  {
   "cell_type": "markdown",
   "metadata": {},
   "source": [
    "\n",
    "### Crop production data analysis."
   ]
  },
  {
   "cell_type": "code",
   "execution_count": 4,
   "metadata": {},
   "outputs": [],
   "source": [
    "# assign data in new dataframe for analysis.\n",
    "df_analysis = df_crop\n"
   ]
  },
  {
   "cell_type": "code",
   "execution_count": 5,
   "metadata": {},
   "outputs": [
    {
     "data": {
      "text/html": [
       "<div>\n",
       "<style scoped>\n",
       "    .dataframe tbody tr th:only-of-type {\n",
       "        vertical-align: middle;\n",
       "    }\n",
       "\n",
       "    .dataframe tbody tr th {\n",
       "        vertical-align: top;\n",
       "    }\n",
       "\n",
       "    .dataframe thead th {\n",
       "        text-align: right;\n",
       "    }\n",
       "</style>\n",
       "<table border=\"1\" class=\"dataframe\">\n",
       "  <thead>\n",
       "    <tr style=\"text-align: right;\">\n",
       "      <th></th>\n",
       "      <th>RICE</th>\n",
       "      <th>WHEAT</th>\n",
       "      <th>JOWARR</th>\n",
       "      <th>BAJRA</th>\n",
       "      <th>MAIZE</th>\n",
       "      <th>RAGI</th>\n",
       "      <th>GRAM</th>\n",
       "      <th>TUR</th>\n",
       "      <th>UDID</th>\n",
       "      <th>MUNG</th>\n",
       "    </tr>\n",
       "    <tr>\n",
       "      <th>District_name</th>\n",
       "      <th></th>\n",
       "      <th></th>\n",
       "      <th></th>\n",
       "      <th></th>\n",
       "      <th></th>\n",
       "      <th></th>\n",
       "      <th></th>\n",
       "      <th></th>\n",
       "      <th></th>\n",
       "      <th></th>\n",
       "    </tr>\n",
       "  </thead>\n",
       "  <tbody>\n",
       "    <tr>\n",
       "      <th>Ahemadnagar</th>\n",
       "      <td>21165</td>\n",
       "      <td>81820</td>\n",
       "      <td>290528</td>\n",
       "      <td>223329</td>\n",
       "      <td>120126</td>\n",
       "      <td>2085</td>\n",
       "      <td>28000</td>\n",
       "      <td>11705</td>\n",
       "      <td>6161</td>\n",
       "      <td>328</td>\n",
       "    </tr>\n",
       "    <tr>\n",
       "      <th>Akola</th>\n",
       "      <td>0</td>\n",
       "      <td>30569</td>\n",
       "      <td>104344</td>\n",
       "      <td>0</td>\n",
       "      <td>0</td>\n",
       "      <td>0</td>\n",
       "      <td>12632</td>\n",
       "      <td>20821</td>\n",
       "      <td>7377</td>\n",
       "      <td>28576</td>\n",
       "    </tr>\n",
       "    <tr>\n",
       "      <th>Amravati</th>\n",
       "      <td>4773</td>\n",
       "      <td>15209</td>\n",
       "      <td>0</td>\n",
       "      <td>0</td>\n",
       "      <td>0</td>\n",
       "      <td>0</td>\n",
       "      <td>66270</td>\n",
       "      <td>110996</td>\n",
       "      <td>3134</td>\n",
       "      <td>26431</td>\n",
       "    </tr>\n",
       "    <tr>\n",
       "      <th>Aurangabad</th>\n",
       "      <td>0</td>\n",
       "      <td>74633</td>\n",
       "      <td>79673</td>\n",
       "      <td>80819</td>\n",
       "      <td>417410</td>\n",
       "      <td>0</td>\n",
       "      <td>28673</td>\n",
       "      <td>28388</td>\n",
       "      <td>667</td>\n",
       "      <td>862</td>\n",
       "    </tr>\n",
       "    <tr>\n",
       "      <th>Beed</th>\n",
       "      <td>189</td>\n",
       "      <td>50908</td>\n",
       "      <td>119590</td>\n",
       "      <td>103479</td>\n",
       "      <td>6048</td>\n",
       "      <td>0</td>\n",
       "      <td>28066</td>\n",
       "      <td>30039</td>\n",
       "      <td>8738</td>\n",
       "      <td>2538</td>\n",
       "    </tr>\n",
       "  </tbody>\n",
       "</table>\n",
       "</div>"
      ],
      "text/plain": [
       "                RICE  WHEAT  JOWARR   BAJRA   MAIZE  RAGI   GRAM     TUR  \\\n",
       "District_name                                                              \n",
       "Ahemadnagar    21165  81820  290528  223329  120126  2085  28000   11705   \n",
       "Akola              0  30569  104344       0       0     0  12632   20821   \n",
       "Amravati        4773  15209       0       0       0     0  66270  110996   \n",
       "Aurangabad         0  74633   79673   80819  417410     0  28673   28388   \n",
       "Beed             189  50908  119590  103479    6048     0  28066   30039   \n",
       "\n",
       "               UDID   MUNG  \n",
       "District_name               \n",
       "Ahemadnagar    6161    328  \n",
       "Akola          7377  28576  \n",
       "Amravati       3134  26431  \n",
       "Aurangabad      667    862  \n",
       "Beed           8738   2538  "
      ]
     },
     "execution_count": 5,
     "metadata": {},
     "output_type": "execute_result"
    }
   ],
   "source": [
    "#Set the district name as index - useful for quickly looking up district using .loc method\n",
    "df_analysis.set_index('District_name' , inplace = True)\n",
    "\n",
    "#now see how data frame looks.\n",
    "df_analysis.head()"
   ]
  },
  {
   "cell_type": "code",
   "execution_count": 6,
   "metadata": {},
   "outputs": [
    {
     "data": {
      "text/plain": [
       "33"
      ]
     },
     "execution_count": 6,
     "metadata": {},
     "output_type": "execute_result"
    }
   ],
   "source": [
    "length = len(df_analysis)\n",
    "length"
   ]
  },
  {
   "cell_type": "markdown",
   "metadata": {},
   "source": [
    "### Lets analyze the crop production data of each district where district name choosed by user."
   ]
  },
  {
   "cell_type": "markdown",
   "metadata": {},
   "source": [
    "Please Enter the district name in which you want to analyze crop data in the input field, use the district name from following list.<br>\n",
    "[Ahemadnagar Akola Amravati Aurangabad Beed Bhandara Buldhana Chandrapur Dhule Gadchiroli Gondia Hingoli Jalgaon Jalna Kolhapur Latur Nagpur Nanded Nandurbar Nashik Osmanabad Parbhani Pune Raigad Ratnagiri Sangli Satara Sindhudurg Solapur Thane Wardha Washim Yavatmal\n",
    "]<br>\n",
    "\n",
    "Note : Input field is case sensitive."
   ]
  },
  {
   "cell_type": "code",
   "execution_count": 9,
   "metadata": {},
   "outputs": [
    {
     "name": "stdin",
     "output_type": "stream",
     "text": [
      "Enter the District Name : Satara\n"
     ]
    },
    {
     "data": {
      "image/png": "[encoded data removed]",
      "text/plain": [
       "<Figure size 1152x1008 with 1 Axes>"
      ]
     },
     "metadata": {
      "needs_background": "light"
     },
     "output_type": "display_data"
    }
   ],
   "source": [
    "value = input(\"Enter the District Name :\")\n",
    "\n",
    "df_data = df_analysis.loc[[value]] #assign the data of district which is selected by user input to the new dataframe.\n",
    "\n",
    "df_data.reset_index(drop=True, inplace=True) # drop the index.\n",
    "#transpose dataframe.\n",
    "df_transposed = df_data.T\n",
    "\n",
    "#rename the column name.\n",
    "df_transposed.rename(columns={ 0: 'Production'}, inplace=True)\n",
    "\n",
    "#now lets plot the dtataframe into bar graph.\n",
    "df_transposed.plot(kind=\"bar\", figsize = (16,14),  fontsize = 12, color = 'rgbkymc')   \n",
    "plt.title(\"Distrcit Wise Crop Production In Maharashtra State\", fontsize = 16)\n",
    "plt.xlabel(\"Different Crops of District :\" + value, fontsize = 16)\n",
    "plt.ylabel(\"Crop Production in Tonns\", fontsize = 16)\n",
    "\n",
    "plt.savefig('yieldanalysis.png', format= 'png')\n",
    "plt.show()\n",
    "\n",
    "\n"
   ]
  },
  {
   "cell_type": "code",
   "execution_count": null,
   "metadata": {},
   "outputs": [],
   "source": []
  },
  {
   "cell_type": "code",
   "execution_count": null,
   "metadata": {},
   "outputs": [],
   "source": []
  },
  {
   "cell_type": "code",
   "execution_count": null,
   "metadata": {},
   "outputs": [],
   "source": []
  }
 ],
 "metadata": {
  "kernelspec": {
   "display_name": "Python 3",
   "language": "python",
   "name": "python3"
  },
  "language_info": {
   "codemirror_mode": {
    "name": "ipython",
    "version": 3
   },
   "file_extension": ".py",
   "mimetype": "text/x-python",
   "name": "python",
   "nbconvert_exporter": "python",
   "pygments_lexer": "ipython3",
   "version": "3.6.3"
  }
 },
 "nbformat": 4,
 "nbformat_minor": 4
}
