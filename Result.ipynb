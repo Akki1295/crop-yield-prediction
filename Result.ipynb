{
 "cells": [
  {
   "cell_type": "markdown",
   "metadata": {},
   "source": [
    "<h1 align=center><font size = 6> Crop Yield Prediction Results. </font></h1>"
   ]
  },
  {
   "cell_type": "markdown",
   "metadata": {},
   "source": [
    "### Import required libraries."
   ]
  },
  {
   "cell_type": "code",
   "execution_count": 1,
   "metadata": {},
   "outputs": [
    {
     "name": "stdout",
     "output_type": "stream",
     "text": [
      "All the required libraries are imported.....!\n"
     ]
    }
   ],
   "source": [
    "import numpy as np    #Library to handle data in vectorized manner.\n",
    "import pandas as pd   #library for data analysis.\n",
    "\n",
    "#Plotting libray matplotlib and associated ploting modules.\n",
    "import matplotlib.pyplot as plt\n",
    "import matplotlib.cm as cm\n",
    "import matplotlib.colors as colors\n",
    "\n",
    "\n",
    "\n",
    "\n",
    "\n",
    "%matplotlib inline\n",
    "print('All the required libraries are imported.....!')"
   ]
  },
  {
   "cell_type": "markdown",
   "metadata": {},
   "source": [
    "### Read Dataset into pandas dataframe."
   ]
  },
  {
   "cell_type": "code",
   "execution_count": 2,
   "metadata": {},
   "outputs": [
    {
     "data": {
      "text/html": [
       "<div>\n",
       "<style scoped>\n",
       "    .dataframe tbody tr th:only-of-type {\n",
       "        vertical-align: middle;\n",
       "    }\n",
       "\n",
       "    .dataframe tbody tr th {\n",
       "        vertical-align: top;\n",
       "    }\n",
       "\n",
       "    .dataframe thead th {\n",
       "        text-align: right;\n",
       "    }\n",
       "</style>\n",
       "<table border=\"1\" class=\"dataframe\">\n",
       "  <thead>\n",
       "    <tr style=\"text-align: right;\">\n",
       "      <th></th>\n",
       "      <th>District_name</th>\n",
       "      <th>Predicted_rice</th>\n",
       "      <th>Predicted_wheat</th>\n",
       "      <th>Predicted_jowarr</th>\n",
       "      <th>Predicted_bajra</th>\n",
       "      <th>Predicted_maize</th>\n",
       "      <th>Predicted_ragi</th>\n",
       "      <th>Predicted_gram</th>\n",
       "      <th>Predicted_tur</th>\n",
       "      <th>Predicted_udid</th>\n",
       "      <th>Predicted_mung</th>\n",
       "    </tr>\n",
       "  </thead>\n",
       "  <tbody>\n",
       "    <tr>\n",
       "      <th>0</th>\n",
       "      <td>Ahemadnagar</td>\n",
       "      <td>13304</td>\n",
       "      <td>62226</td>\n",
       "      <td>97891</td>\n",
       "      <td>31057</td>\n",
       "      <td>70645</td>\n",
       "      <td>0</td>\n",
       "      <td>16488</td>\n",
       "      <td>52147</td>\n",
       "      <td>2703</td>\n",
       "      <td>2103</td>\n",
       "    </tr>\n",
       "    <tr>\n",
       "      <th>1</th>\n",
       "      <td>Akola</td>\n",
       "      <td>7443</td>\n",
       "      <td>43721</td>\n",
       "      <td>67035</td>\n",
       "      <td>33708</td>\n",
       "      <td>51309</td>\n",
       "      <td>0</td>\n",
       "      <td>17102</td>\n",
       "      <td>33028</td>\n",
       "      <td>2703</td>\n",
       "      <td>1366</td>\n",
       "    </tr>\n",
       "    <tr>\n",
       "      <th>2</th>\n",
       "      <td>Amravati</td>\n",
       "      <td>295</td>\n",
       "      <td>37586</td>\n",
       "      <td>56919</td>\n",
       "      <td>23364</td>\n",
       "      <td>39387</td>\n",
       "      <td>491</td>\n",
       "      <td>16487</td>\n",
       "      <td>23819</td>\n",
       "      <td>2702</td>\n",
       "      <td>1366</td>\n",
       "    </tr>\n",
       "    <tr>\n",
       "      <th>3</th>\n",
       "      <td>Aurangabad</td>\n",
       "      <td>3582</td>\n",
       "      <td>41754</td>\n",
       "      <td>72141</td>\n",
       "      <td>29572</td>\n",
       "      <td>27263</td>\n",
       "      <td>561</td>\n",
       "      <td>16487</td>\n",
       "      <td>32929</td>\n",
       "      <td>2752</td>\n",
       "      <td>2102</td>\n",
       "    </tr>\n",
       "    <tr>\n",
       "      <th>4</th>\n",
       "      <td>Beed</td>\n",
       "      <td>4139</td>\n",
       "      <td>28265</td>\n",
       "      <td>35624</td>\n",
       "      <td>10217</td>\n",
       "      <td>10316</td>\n",
       "      <td>0</td>\n",
       "      <td>16488</td>\n",
       "      <td>24836</td>\n",
       "      <td>2753</td>\n",
       "      <td>2102</td>\n",
       "    </tr>\n",
       "  </tbody>\n",
       "</table>\n",
       "</div>"
      ],
      "text/plain": [
       "  District_name  Predicted_rice  Predicted_wheat  Predicted_jowarr  \\\n",
       "0   Ahemadnagar           13304            62226             97891   \n",
       "1         Akola            7443            43721             67035   \n",
       "2      Amravati             295            37586             56919   \n",
       "3    Aurangabad            3582            41754             72141   \n",
       "4          Beed            4139            28265             35624   \n",
       "\n",
       "   Predicted_bajra  Predicted_maize  Predicted_ragi  Predicted_gram  \\\n",
       "0            31057            70645               0           16488   \n",
       "1            33708            51309               0           17102   \n",
       "2            23364            39387             491           16487   \n",
       "3            29572            27263             561           16487   \n",
       "4            10217            10316               0           16488   \n",
       "\n",
       "   Predicted_tur  Predicted_udid  Predicted_mung  \n",
       "0          52147            2703            2103  \n",
       "1          33028            2703            1366  \n",
       "2          23819            2702            1366  \n",
       "3          32929            2752            2102  \n",
       "4          24836            2753            2102  "
      ]
     },
     "execution_count": 2,
     "metadata": {},
     "output_type": "execute_result"
    }
   ],
   "source": [
    "df_result = pd.read_csv(\"Result.csv\")\n",
    "\n",
    "# Now look at the data frame. \n",
    "df_result.head()"
   ]
  },
  {
   "cell_type": "markdown",
   "metadata": {},
   "source": [
    "### Remove the blank plces from the dataframe."
   ]
  },
  {
   "cell_type": "code",
   "execution_count": 3,
   "metadata": {},
   "outputs": [
    {
     "name": "stdout",
     "output_type": "stream",
     "text": [
      "Drop Sucessfull\n",
      "Size of the data frame is : (33, 11)\n"
     ]
    }
   ],
   "source": [
    "nan_value = float(\"NaN\")\n",
    "df_result.replace(\"\", nan_value, inplace=True)\n",
    "df_result.dropna(subset = [\"District_name\"], inplace=True)\n",
    "print(\"Drop Sucessfull\")\n",
    "#now look at the shape of our data frame.\n",
    "print(\"Size of the data frame is :\", df_result.shape)"
   ]
  },
  {
   "cell_type": "markdown",
   "metadata": {},
   "source": [
    "### Get Actual Crop yield dataset into pandas datframe."
   ]
  },
  {
   "cell_type": "code",
   "execution_count": 4,
   "metadata": {},
   "outputs": [
    {
     "data": {
      "text/html": [
       "<div>\n",
       "<style scoped>\n",
       "    .dataframe tbody tr th:only-of-type {\n",
       "        vertical-align: middle;\n",
       "    }\n",
       "\n",
       "    .dataframe tbody tr th {\n",
       "        vertical-align: top;\n",
       "    }\n",
       "\n",
       "    .dataframe thead th {\n",
       "        text-align: right;\n",
       "    }\n",
       "</style>\n",
       "<table border=\"1\" class=\"dataframe\">\n",
       "  <thead>\n",
       "    <tr style=\"text-align: right;\">\n",
       "      <th></th>\n",
       "      <th>District_name</th>\n",
       "      <th>RICE</th>\n",
       "      <th>WHEAT</th>\n",
       "      <th>JOWARR</th>\n",
       "      <th>BAJRA</th>\n",
       "      <th>MAIZE</th>\n",
       "      <th>RAGI</th>\n",
       "      <th>GRAM</th>\n",
       "      <th>TUR</th>\n",
       "      <th>UDID</th>\n",
       "      <th>MUNG</th>\n",
       "    </tr>\n",
       "  </thead>\n",
       "  <tbody>\n",
       "    <tr>\n",
       "      <th>0</th>\n",
       "      <td>Ahemadnagar</td>\n",
       "      <td>21165</td>\n",
       "      <td>81820</td>\n",
       "      <td>290528</td>\n",
       "      <td>223329</td>\n",
       "      <td>120126</td>\n",
       "      <td>2085</td>\n",
       "      <td>28000</td>\n",
       "      <td>11705</td>\n",
       "      <td>6161</td>\n",
       "      <td>328</td>\n",
       "    </tr>\n",
       "    <tr>\n",
       "      <th>1</th>\n",
       "      <td>Akola</td>\n",
       "      <td>0</td>\n",
       "      <td>30569</td>\n",
       "      <td>104344</td>\n",
       "      <td>0</td>\n",
       "      <td>0</td>\n",
       "      <td>0</td>\n",
       "      <td>12632</td>\n",
       "      <td>20821</td>\n",
       "      <td>7377</td>\n",
       "      <td>28576</td>\n",
       "    </tr>\n",
       "    <tr>\n",
       "      <th>2</th>\n",
       "      <td>Amravati</td>\n",
       "      <td>4773</td>\n",
       "      <td>15209</td>\n",
       "      <td>0</td>\n",
       "      <td>0</td>\n",
       "      <td>0</td>\n",
       "      <td>0</td>\n",
       "      <td>66270</td>\n",
       "      <td>110996</td>\n",
       "      <td>3134</td>\n",
       "      <td>26431</td>\n",
       "    </tr>\n",
       "    <tr>\n",
       "      <th>3</th>\n",
       "      <td>Aurangabad</td>\n",
       "      <td>0</td>\n",
       "      <td>74633</td>\n",
       "      <td>79673</td>\n",
       "      <td>80819</td>\n",
       "      <td>417410</td>\n",
       "      <td>0</td>\n",
       "      <td>28673</td>\n",
       "      <td>28388</td>\n",
       "      <td>667</td>\n",
       "      <td>862</td>\n",
       "    </tr>\n",
       "    <tr>\n",
       "      <th>4</th>\n",
       "      <td>Beed</td>\n",
       "      <td>189</td>\n",
       "      <td>50908</td>\n",
       "      <td>119590</td>\n",
       "      <td>103479</td>\n",
       "      <td>6048</td>\n",
       "      <td>0</td>\n",
       "      <td>28066</td>\n",
       "      <td>30039</td>\n",
       "      <td>8738</td>\n",
       "      <td>2538</td>\n",
       "    </tr>\n",
       "  </tbody>\n",
       "</table>\n",
       "</div>"
      ],
      "text/plain": [
       "  District_name   RICE  WHEAT  JOWARR   BAJRA   MAIZE  RAGI   GRAM     TUR  \\\n",
       "0   Ahemadnagar  21165  81820  290528  223329  120126  2085  28000   11705   \n",
       "1         Akola      0  30569  104344       0       0     0  12632   20821   \n",
       "2      Amravati   4773  15209       0       0       0     0  66270  110996   \n",
       "3    Aurangabad      0  74633   79673   80819  417410     0  28673   28388   \n",
       "4          Beed    189  50908  119590  103479    6048     0  28066   30039   \n",
       "\n",
       "   UDID   MUNG  \n",
       "0  6161    328  \n",
       "1  7377  28576  \n",
       "2  3134  26431  \n",
       "3   667    862  \n",
       "4  8738   2538  "
      ]
     },
     "execution_count": 4,
     "metadata": {},
     "output_type": "execute_result"
    }
   ],
   "source": [
    "df_crop = pd.read_csv(\"crop_production.csv\")\n",
    "df_crop.head()"
   ]
  },
  {
   "cell_type": "markdown",
   "metadata": {},
   "source": [
    "#### remove blank places from dataframe."
   ]
  },
  {
   "cell_type": "code",
   "execution_count": 5,
   "metadata": {},
   "outputs": [
    {
     "name": "stdout",
     "output_type": "stream",
     "text": [
      "Drop Sucessfull\n",
      "Size of the data frame is : (33, 11)\n"
     ]
    }
   ],
   "source": [
    "nan_value = float(\"NaN\")\n",
    "df_crop.replace(\"\", nan_value, inplace=True)\n",
    "df_crop.dropna(subset = [\"District_name\"], inplace=True)\n",
    "print(\"Drop Sucessfull\")\n",
    "#now look at the shape of our data frame.\n",
    "print(\"Size of the data frame is :\", df_result.shape)"
   ]
  },
  {
   "cell_type": "markdown",
   "metadata": {},
   "source": [
    "## Prediction Result analysis :"
   ]
  },
  {
   "cell_type": "markdown",
   "metadata": {},
   "source": [
    "### Set District Name as index in result dataframe:"
   ]
  },
  {
   "cell_type": "code",
   "execution_count": 6,
   "metadata": {},
   "outputs": [
    {
     "data": {
      "text/html": [
       "<div>\n",
       "<style scoped>\n",
       "    .dataframe tbody tr th:only-of-type {\n",
       "        vertical-align: middle;\n",
       "    }\n",
       "\n",
       "    .dataframe tbody tr th {\n",
       "        vertical-align: top;\n",
       "    }\n",
       "\n",
       "    .dataframe thead th {\n",
       "        text-align: right;\n",
       "    }\n",
       "</style>\n",
       "<table border=\"1\" class=\"dataframe\">\n",
       "  <thead>\n",
       "    <tr style=\"text-align: right;\">\n",
       "      <th></th>\n",
       "      <th>Predicted_rice</th>\n",
       "      <th>Predicted_wheat</th>\n",
       "      <th>Predicted_jowarr</th>\n",
       "      <th>Predicted_bajra</th>\n",
       "      <th>Predicted_maize</th>\n",
       "      <th>Predicted_ragi</th>\n",
       "      <th>Predicted_gram</th>\n",
       "      <th>Predicted_tur</th>\n",
       "      <th>Predicted_udid</th>\n",
       "      <th>Predicted_mung</th>\n",
       "    </tr>\n",
       "    <tr>\n",
       "      <th>District_name</th>\n",
       "      <th></th>\n",
       "      <th></th>\n",
       "      <th></th>\n",
       "      <th></th>\n",
       "      <th></th>\n",
       "      <th></th>\n",
       "      <th></th>\n",
       "      <th></th>\n",
       "      <th></th>\n",
       "      <th></th>\n",
       "    </tr>\n",
       "  </thead>\n",
       "  <tbody>\n",
       "    <tr>\n",
       "      <th>Ahemadnagar</th>\n",
       "      <td>13304</td>\n",
       "      <td>62226</td>\n",
       "      <td>97891</td>\n",
       "      <td>31057</td>\n",
       "      <td>70645</td>\n",
       "      <td>0</td>\n",
       "      <td>16488</td>\n",
       "      <td>52147</td>\n",
       "      <td>2703</td>\n",
       "      <td>2103</td>\n",
       "    </tr>\n",
       "    <tr>\n",
       "      <th>Akola</th>\n",
       "      <td>7443</td>\n",
       "      <td>43721</td>\n",
       "      <td>67035</td>\n",
       "      <td>33708</td>\n",
       "      <td>51309</td>\n",
       "      <td>0</td>\n",
       "      <td>17102</td>\n",
       "      <td>33028</td>\n",
       "      <td>2703</td>\n",
       "      <td>1366</td>\n",
       "    </tr>\n",
       "    <tr>\n",
       "      <th>Amravati</th>\n",
       "      <td>295</td>\n",
       "      <td>37586</td>\n",
       "      <td>56919</td>\n",
       "      <td>23364</td>\n",
       "      <td>39387</td>\n",
       "      <td>491</td>\n",
       "      <td>16487</td>\n",
       "      <td>23819</td>\n",
       "      <td>2702</td>\n",
       "      <td>1366</td>\n",
       "    </tr>\n",
       "    <tr>\n",
       "      <th>Aurangabad</th>\n",
       "      <td>3582</td>\n",
       "      <td>41754</td>\n",
       "      <td>72141</td>\n",
       "      <td>29572</td>\n",
       "      <td>27263</td>\n",
       "      <td>561</td>\n",
       "      <td>16487</td>\n",
       "      <td>32929</td>\n",
       "      <td>2752</td>\n",
       "      <td>2102</td>\n",
       "    </tr>\n",
       "    <tr>\n",
       "      <th>Beed</th>\n",
       "      <td>4139</td>\n",
       "      <td>28265</td>\n",
       "      <td>35624</td>\n",
       "      <td>10217</td>\n",
       "      <td>10316</td>\n",
       "      <td>0</td>\n",
       "      <td>16488</td>\n",
       "      <td>24836</td>\n",
       "      <td>2753</td>\n",
       "      <td>2102</td>\n",
       "    </tr>\n",
       "  </tbody>\n",
       "</table>\n",
       "</div>"
      ],
      "text/plain": [
       "               Predicted_rice  Predicted_wheat  Predicted_jowarr  \\\n",
       "District_name                                                      \n",
       "Ahemadnagar             13304            62226             97891   \n",
       "Akola                    7443            43721             67035   \n",
       "Amravati                  295            37586             56919   \n",
       "Aurangabad               3582            41754             72141   \n",
       "Beed                     4139            28265             35624   \n",
       "\n",
       "               Predicted_bajra  Predicted_maize  Predicted_ragi  \\\n",
       "District_name                                                     \n",
       "Ahemadnagar              31057            70645               0   \n",
       "Akola                    33708            51309               0   \n",
       "Amravati                 23364            39387             491   \n",
       "Aurangabad               29572            27263             561   \n",
       "Beed                     10217            10316               0   \n",
       "\n",
       "               Predicted_gram  Predicted_tur  Predicted_udid  Predicted_mung  \n",
       "District_name                                                                 \n",
       "Ahemadnagar             16488          52147            2703            2103  \n",
       "Akola                   17102          33028            2703            1366  \n",
       "Amravati                16487          23819            2702            1366  \n",
       "Aurangabad              16487          32929            2752            2102  \n",
       "Beed                    16488          24836            2753            2102  "
      ]
     },
     "execution_count": 6,
     "metadata": {},
     "output_type": "execute_result"
    }
   ],
   "source": [
    "#Set the district name as index - useful for quickly looking up district using .loc method\n",
    "df_result.set_index('District_name' , inplace = True)\n",
    "\n",
    "#now see how data frame looks.\n",
    "df_result.head()"
   ]
  },
  {
   "cell_type": "markdown",
   "metadata": {},
   "source": [
    "### Set District Name as index in crop dataframe:"
   ]
  },
  {
   "cell_type": "code",
   "execution_count": 7,
   "metadata": {},
   "outputs": [
    {
     "data": {
      "text/html": [
       "<div>\n",
       "<style scoped>\n",
       "    .dataframe tbody tr th:only-of-type {\n",
       "        vertical-align: middle;\n",
       "    }\n",
       "\n",
       "    .dataframe tbody tr th {\n",
       "        vertical-align: top;\n",
       "    }\n",
       "\n",
       "    .dataframe thead th {\n",
       "        text-align: right;\n",
       "    }\n",
       "</style>\n",
       "<table border=\"1\" class=\"dataframe\">\n",
       "  <thead>\n",
       "    <tr style=\"text-align: right;\">\n",
       "      <th></th>\n",
       "      <th>RICE</th>\n",
       "      <th>WHEAT</th>\n",
       "      <th>JOWARR</th>\n",
       "      <th>BAJRA</th>\n",
       "      <th>MAIZE</th>\n",
       "      <th>RAGI</th>\n",
       "      <th>GRAM</th>\n",
       "      <th>TUR</th>\n",
       "      <th>UDID</th>\n",
       "      <th>MUNG</th>\n",
       "    </tr>\n",
       "    <tr>\n",
       "      <th>District_name</th>\n",
       "      <th></th>\n",
       "      <th></th>\n",
       "      <th></th>\n",
       "      <th></th>\n",
       "      <th></th>\n",
       "      <th></th>\n",
       "      <th></th>\n",
       "      <th></th>\n",
       "      <th></th>\n",
       "      <th></th>\n",
       "    </tr>\n",
       "  </thead>\n",
       "  <tbody>\n",
       "    <tr>\n",
       "      <th>Ahemadnagar</th>\n",
       "      <td>21165</td>\n",
       "      <td>81820</td>\n",
       "      <td>290528</td>\n",
       "      <td>223329</td>\n",
       "      <td>120126</td>\n",
       "      <td>2085</td>\n",
       "      <td>28000</td>\n",
       "      <td>11705</td>\n",
       "      <td>6161</td>\n",
       "      <td>328</td>\n",
       "    </tr>\n",
       "    <tr>\n",
       "      <th>Akola</th>\n",
       "      <td>0</td>\n",
       "      <td>30569</td>\n",
       "      <td>104344</td>\n",
       "      <td>0</td>\n",
       "      <td>0</td>\n",
       "      <td>0</td>\n",
       "      <td>12632</td>\n",
       "      <td>20821</td>\n",
       "      <td>7377</td>\n",
       "      <td>28576</td>\n",
       "    </tr>\n",
       "    <tr>\n",
       "      <th>Amravati</th>\n",
       "      <td>4773</td>\n",
       "      <td>15209</td>\n",
       "      <td>0</td>\n",
       "      <td>0</td>\n",
       "      <td>0</td>\n",
       "      <td>0</td>\n",
       "      <td>66270</td>\n",
       "      <td>110996</td>\n",
       "      <td>3134</td>\n",
       "      <td>26431</td>\n",
       "    </tr>\n",
       "    <tr>\n",
       "      <th>Aurangabad</th>\n",
       "      <td>0</td>\n",
       "      <td>74633</td>\n",
       "      <td>79673</td>\n",
       "      <td>80819</td>\n",
       "      <td>417410</td>\n",
       "      <td>0</td>\n",
       "      <td>28673</td>\n",
       "      <td>28388</td>\n",
       "      <td>667</td>\n",
       "      <td>862</td>\n",
       "    </tr>\n",
       "    <tr>\n",
       "      <th>Beed</th>\n",
       "      <td>189</td>\n",
       "      <td>50908</td>\n",
       "      <td>119590</td>\n",
       "      <td>103479</td>\n",
       "      <td>6048</td>\n",
       "      <td>0</td>\n",
       "      <td>28066</td>\n",
       "      <td>30039</td>\n",
       "      <td>8738</td>\n",
       "      <td>2538</td>\n",
       "    </tr>\n",
       "  </tbody>\n",
       "</table>\n",
       "</div>"
      ],
      "text/plain": [
       "                RICE  WHEAT  JOWARR   BAJRA   MAIZE  RAGI   GRAM     TUR  \\\n",
       "District_name                                                              \n",
       "Ahemadnagar    21165  81820  290528  223329  120126  2085  28000   11705   \n",
       "Akola              0  30569  104344       0       0     0  12632   20821   \n",
       "Amravati        4773  15209       0       0       0     0  66270  110996   \n",
       "Aurangabad         0  74633   79673   80819  417410     0  28673   28388   \n",
       "Beed             189  50908  119590  103479    6048     0  28066   30039   \n",
       "\n",
       "               UDID   MUNG  \n",
       "District_name               \n",
       "Ahemadnagar    6161    328  \n",
       "Akola          7377  28576  \n",
       "Amravati       3134  26431  \n",
       "Aurangabad      667    862  \n",
       "Beed           8738   2538  "
      ]
     },
     "execution_count": 7,
     "metadata": {},
     "output_type": "execute_result"
    }
   ],
   "source": [
    "#Set the district name as index - useful for quickly looking up district using .loc method\n",
    "df_crop.set_index('District_name' , inplace = True)\n",
    "\n",
    "#now see how data frame looks.\n",
    "df_crop.head()"
   ]
  },
  {
   "cell_type": "markdown",
   "metadata": {},
   "source": [
    "### Lets analyze the crop yield prediction result data of each district where district name choosed by user."
   ]
  },
  {
   "cell_type": "markdown",
   "metadata": {},
   "source": [
    "Please Enter the district name in which you want to analyze crop data in the input field, use the district name from following list.<br>\n",
    "[Ahemadnagar Akola Amravati Aurangabad Beed Bhandara Buldhana Chandrapur Dhule Gadchiroli Gondia Hingoli Jalgaon Jalna Kolhapur Latur Nagpur Nanded Nandurbar Nashik Osmanabad Parbhani Pune Raigad Ratnagiri Sangli Satara Sindhudurg Solapur Thane Wardha Washim Yavatmal\n",
    "]<br>\n",
    "\n",
    "Note : Input field is case sensitive."
   ]
  },
  {
   "cell_type": "code",
   "execution_count": 10,
   "metadata": {},
   "outputs": [
    {
     "name": "stdin",
     "output_type": "stream",
     "text": [
      "Enter the District Name : Satara\n"
     ]
    },
    {
     "data": {
      "text/plain": [
       "'Satara'"
      ]
     },
     "execution_count": 10,
     "metadata": {},
     "output_type": "execute_result"
    }
   ],
   "source": [
    "value = input(\"Enter the District Name :\")\n",
    "value"
   ]
  },
  {
   "cell_type": "markdown",
   "metadata": {},
   "source": [
    "#### Predicted Bar Graph :"
   ]
  },
  {
   "cell_type": "markdown",
   "metadata": {},
   "source": [
    "#### Prepare result dataframe."
   ]
  },
  {
   "cell_type": "code",
   "execution_count": 11,
   "metadata": {},
   "outputs": [
    {
     "data": {
      "text/html": [
       "<div>\n",
       "<style scoped>\n",
       "    .dataframe tbody tr th:only-of-type {\n",
       "        vertical-align: middle;\n",
       "    }\n",
       "\n",
       "    .dataframe tbody tr th {\n",
       "        vertical-align: top;\n",
       "    }\n",
       "\n",
       "    .dataframe thead th {\n",
       "        text-align: right;\n",
       "    }\n",
       "</style>\n",
       "<table border=\"1\" class=\"dataframe\">\n",
       "  <thead>\n",
       "    <tr style=\"text-align: right;\">\n",
       "      <th></th>\n",
       "      <th>Predicted</th>\n",
       "    </tr>\n",
       "  </thead>\n",
       "  <tbody>\n",
       "    <tr>\n",
       "      <th>RICE</th>\n",
       "      <td>51792</td>\n",
       "    </tr>\n",
       "    <tr>\n",
       "      <th>WHEAT</th>\n",
       "      <td>45025</td>\n",
       "    </tr>\n",
       "    <tr>\n",
       "      <th>JOWARR</th>\n",
       "      <td>74468</td>\n",
       "    </tr>\n",
       "    <tr>\n",
       "      <th>BAJRA</th>\n",
       "      <td>49156</td>\n",
       "    </tr>\n",
       "    <tr>\n",
       "      <th>MAIZE</th>\n",
       "      <td>37682</td>\n",
       "    </tr>\n",
       "    <tr>\n",
       "      <th>RAGI</th>\n",
       "      <td>5323</td>\n",
       "    </tr>\n",
       "    <tr>\n",
       "      <th>GRAM</th>\n",
       "      <td>16486</td>\n",
       "    </tr>\n",
       "    <tr>\n",
       "      <th>TUR</th>\n",
       "      <td>35455</td>\n",
       "    </tr>\n",
       "    <tr>\n",
       "      <th>UDID</th>\n",
       "      <td>3132</td>\n",
       "    </tr>\n",
       "    <tr>\n",
       "      <th>MUNG</th>\n",
       "      <td>2497</td>\n",
       "    </tr>\n",
       "  </tbody>\n",
       "</table>\n",
       "</div>"
      ],
      "text/plain": [
       "        Predicted\n",
       "RICE        51792\n",
       "WHEAT       45025\n",
       "JOWARR      74468\n",
       "BAJRA       49156\n",
       "MAIZE       37682\n",
       "RAGI         5323\n",
       "GRAM        16486\n",
       "TUR         35455\n",
       "UDID         3132\n",
       "MUNG         2497"
      ]
     },
     "execution_count": 11,
     "metadata": {},
     "output_type": "execute_result"
    }
   ],
   "source": [
    "df_pred = df_result.loc[[value]] #assign the data of district which is selected by user input to the new dataframe.\n",
    "\n",
    "df_pred.reset_index(drop=True, inplace=True) # drop the index.\n",
    "#transpose dataframe.\n",
    "df_transpred = df_pred.T\n",
    "\n",
    "df_transpred.reset_index(drop=True, inplace=True) # drop the index.\n",
    "\n",
    "#rename column name.\n",
    "df_transpred.rename(columns={ 0: 'Predicted'}, inplace=True)\n",
    "\n",
    "#rename index.\n",
    "df_transpred.rename(index ={ 0: 'RICE', 1: 'WHEAT', 2: 'JOWARR', 3: 'BAJRA', 4: 'MAIZE', 5: 'RAGI', 6: 'GRAM', 7: 'TUR', 8: 'UDID', 9: 'MUNG'}, inplace=True)\n",
    "\n",
    "df_transpred"
   ]
  },
  {
   "cell_type": "markdown",
   "metadata": {},
   "source": [
    "#### Prepare crop dataframe."
   ]
  },
  {
   "cell_type": "code",
   "execution_count": 12,
   "metadata": {},
   "outputs": [
    {
     "data": {
      "text/html": [
       "<div>\n",
       "<style scoped>\n",
       "    .dataframe tbody tr th:only-of-type {\n",
       "        vertical-align: middle;\n",
       "    }\n",
       "\n",
       "    .dataframe tbody tr th {\n",
       "        vertical-align: top;\n",
       "    }\n",
       "\n",
       "    .dataframe thead th {\n",
       "        text-align: right;\n",
       "    }\n",
       "</style>\n",
       "<table border=\"1\" class=\"dataframe\">\n",
       "  <thead>\n",
       "    <tr style=\"text-align: right;\">\n",
       "      <th></th>\n",
       "      <th>Actual</th>\n",
       "    </tr>\n",
       "  </thead>\n",
       "  <tbody>\n",
       "    <tr>\n",
       "      <th>RICE</th>\n",
       "      <td>8000</td>\n",
       "    </tr>\n",
       "    <tr>\n",
       "      <th>WHEAT</th>\n",
       "      <td>57600</td>\n",
       "    </tr>\n",
       "    <tr>\n",
       "      <th>JOWARR</th>\n",
       "      <td>20400</td>\n",
       "    </tr>\n",
       "    <tr>\n",
       "      <th>BAJRA</th>\n",
       "      <td>14300</td>\n",
       "    </tr>\n",
       "    <tr>\n",
       "      <th>MAIZE</th>\n",
       "      <td>45200</td>\n",
       "    </tr>\n",
       "    <tr>\n",
       "      <th>RAGI</th>\n",
       "      <td>6900</td>\n",
       "    </tr>\n",
       "    <tr>\n",
       "      <th>GRAM</th>\n",
       "      <td>17100</td>\n",
       "    </tr>\n",
       "    <tr>\n",
       "      <th>TUR</th>\n",
       "      <td>1300</td>\n",
       "    </tr>\n",
       "    <tr>\n",
       "      <th>UDID</th>\n",
       "      <td>2700</td>\n",
       "    </tr>\n",
       "    <tr>\n",
       "      <th>MUNG</th>\n",
       "      <td>2100</td>\n",
       "    </tr>\n",
       "  </tbody>\n",
       "</table>\n",
       "</div>"
      ],
      "text/plain": [
       "        Actual\n",
       "RICE      8000\n",
       "WHEAT    57600\n",
       "JOWARR   20400\n",
       "BAJRA    14300\n",
       "MAIZE    45200\n",
       "RAGI      6900\n",
       "GRAM     17100\n",
       "TUR       1300\n",
       "UDID      2700\n",
       "MUNG      2100"
      ]
     },
     "execution_count": 12,
     "metadata": {},
     "output_type": "execute_result"
    }
   ],
   "source": [
    "df_actual = df_crop.loc[[value]] #assign the data of district which is selected by user input to the new dataframe.\n",
    "\n",
    "df_actual.reset_index(drop=True, inplace=True) # drop the index.\n",
    "#transpose dataframe.\n",
    "df_transactual = df_actual.T\n",
    "\n",
    "#rename column name.\n",
    "df_transactual.rename(columns={ 0: 'Actual'}, inplace=True)\n",
    "\n",
    "df_transactual"
   ]
  },
  {
   "cell_type": "markdown",
   "metadata": {},
   "source": [
    "### merge two dataframes."
   ]
  },
  {
   "cell_type": "code",
   "execution_count": 13,
   "metadata": {},
   "outputs": [
    {
     "data": {
      "text/html": [
       "<div>\n",
       "<style scoped>\n",
       "    .dataframe tbody tr th:only-of-type {\n",
       "        vertical-align: middle;\n",
       "    }\n",
       "\n",
       "    .dataframe tbody tr th {\n",
       "        vertical-align: top;\n",
       "    }\n",
       "\n",
       "    .dataframe thead th {\n",
       "        text-align: right;\n",
       "    }\n",
       "</style>\n",
       "<table border=\"1\" class=\"dataframe\">\n",
       "  <thead>\n",
       "    <tr style=\"text-align: right;\">\n",
       "      <th></th>\n",
       "      <th>Actual</th>\n",
       "      <th>Predicted</th>\n",
       "    </tr>\n",
       "  </thead>\n",
       "  <tbody>\n",
       "    <tr>\n",
       "      <th>RICE</th>\n",
       "      <td>8000</td>\n",
       "      <td>51792</td>\n",
       "    </tr>\n",
       "    <tr>\n",
       "      <th>WHEAT</th>\n",
       "      <td>57600</td>\n",
       "      <td>45025</td>\n",
       "    </tr>\n",
       "    <tr>\n",
       "      <th>JOWARR</th>\n",
       "      <td>20400</td>\n",
       "      <td>74468</td>\n",
       "    </tr>\n",
       "    <tr>\n",
       "      <th>BAJRA</th>\n",
       "      <td>14300</td>\n",
       "      <td>49156</td>\n",
       "    </tr>\n",
       "    <tr>\n",
       "      <th>MAIZE</th>\n",
       "      <td>45200</td>\n",
       "      <td>37682</td>\n",
       "    </tr>\n",
       "    <tr>\n",
       "      <th>RAGI</th>\n",
       "      <td>6900</td>\n",
       "      <td>5323</td>\n",
       "    </tr>\n",
       "    <tr>\n",
       "      <th>GRAM</th>\n",
       "      <td>17100</td>\n",
       "      <td>16486</td>\n",
       "    </tr>\n",
       "    <tr>\n",
       "      <th>TUR</th>\n",
       "      <td>1300</td>\n",
       "      <td>35455</td>\n",
       "    </tr>\n",
       "    <tr>\n",
       "      <th>UDID</th>\n",
       "      <td>2700</td>\n",
       "      <td>3132</td>\n",
       "    </tr>\n",
       "    <tr>\n",
       "      <th>MUNG</th>\n",
       "      <td>2100</td>\n",
       "      <td>2497</td>\n",
       "    </tr>\n",
       "  </tbody>\n",
       "</table>\n",
       "</div>"
      ],
      "text/plain": [
       "        Actual  Predicted\n",
       "RICE      8000      51792\n",
       "WHEAT    57600      45025\n",
       "JOWARR   20400      74468\n",
       "BAJRA    14300      49156\n",
       "MAIZE    45200      37682\n",
       "RAGI      6900       5323\n",
       "GRAM     17100      16486\n",
       "TUR       1300      35455\n",
       "UDID      2700       3132\n",
       "MUNG      2100       2497"
      ]
     },
     "execution_count": 13,
     "metadata": {},
     "output_type": "execute_result"
    }
   ],
   "source": [
    "df_combine = df_transactual.merge(df_transpred,  left_index=True, right_index=True, how=\"left\")\n",
    "df_combine"
   ]
  },
  {
   "cell_type": "markdown",
   "metadata": {},
   "source": [
    "### Now plot the bar graph."
   ]
  },
  {
   "cell_type": "code",
   "execution_count": 15,
   "metadata": {},
   "outputs": [
    {
     "data": {
      "image/png": "[encoded data removed]",
      "text/plain": [
       "<Figure size 864x720 with 1 Axes>"
      ]
     },
     "metadata": {
      "needs_background": "light"
     },
     "output_type": "display_data"
    }
   ],
   "source": [
    "\n",
    "#now lets plot the dtataframe into bar graph.\n",
    "df_combine.plot(kind=\"bar\", figsize = (12,10),  fontsize = 12)   \n",
    "plt.title(\"Actual vs Predicted Crop Yield\", fontsize = 16)\n",
    "plt.xlabel(\"Different Crops of District :\" + value, fontsize = 16)\n",
    "plt.ylabel(\" Crop Yield in Tonns\", fontsize = 16)\n",
    "\n",
    "plt.savefig('Predicted_result.png', format= 'png')\n",
    "plt.show()\n"
   ]
  },
  {
   "cell_type": "markdown",
   "metadata": {},
   "source": [
    "#### Preicted Pie Chart :"
   ]
  },
  {
   "cell_type": "code",
   "execution_count": null,
   "metadata": {},
   "outputs": [],
   "source": []
  },
  {
   "cell_type": "code",
   "execution_count": null,
   "metadata": {},
   "outputs": [],
   "source": []
  },
  {
   "cell_type": "code",
   "execution_count": 16,
   "metadata": {},
   "outputs": [
    {
     "data": {
      "image/png": "[encoded data removed]",
      "text/plain": [
       "<Figure size 576x648 with 1 Axes>"
      ]
     },
     "metadata": {},
     "output_type": "display_data"
    }
   ],
   "source": [
    "df_transpred.plot.pie(y= 0, figsize=(8, 9))\n",
    "plt.title(\" Crop Yield Prediction\", fontsize = 16)\n",
    "plt.savefig('Prediction_pie.png', format= 'png')"
   ]
  },
  {
   "cell_type": "markdown",
   "metadata": {},
   "source": [
    "<html><head>\n",
    "\n",
    "\n",
    "<!-- Load require.js. Delete this if your page already loads require.js -->\n",
    "<script src=\"https://cdnjs.cloudflare.com/ajax/libs/require.js/2.3.4/require.min.js\" integrity=\"sha256-Ae2Vz/4ePdIu6ZyI/5ZGsYnb+m0JlOmKPjt6XZ9JJkA=\" crossorigin=\"anonymous\"></script>\n",
    "<script src=\"https://unpkg.com/@jupyter-widgets/html-manager@*/dist/embed-amd.js\" crossorigin=\"anonymous\"></script>\n",
    "<script type=\"application/vnd.jupyter.widget-state+json\">\n",
    "{\n",
    "    \"version_major\": 2,\n",
    "    \"version_minor\": 0,\n",
    "    \"state\": {}\n",
    "}\n",
    "</script>\n",
    "</head>\n",
    "<body>\n",
    "\n",
    "\n",
    "</body>\n",
    "</html>\n"
   ]
  },
  {
   "cell_type": "markdown",
   "metadata": {},
   "source": [
    "<html><head>\n",
    "\n",
    "\n",
    "<!-- Load require.js. Delete this if your page already loads require.js -->\n",
    "<script src=\"https://cdnjs.cloudflare.com/ajax/libs/require.js/2.3.4/require.min.js\" integrity=\"sha256-Ae2Vz/4ePdIu6ZyI/5ZGsYnb+m0JlOmKPjt6XZ9JJkA=\" crossorigin=\"anonymous\"></script>\n",
    "<script src=\"https://unpkg.com/@jupyter-widgets/html-manager@*/dist/embed-amd.js\" crossorigin=\"anonymous\"></script>\n",
    "<script type=\"application/vnd.jupyter.widget-state+json\">\n",
    "{\n",
    "    \"version_major\": 2,\n",
    "    \"version_minor\": 0,\n",
    "    \"state\": {}\n",
    "}\n",
    "</script>\n",
    "</head>\n",
    "<body>\n",
    "\n",
    "\n",
    "</body>\n",
    "</html>\n"
   ]
  },
  {
   "cell_type": "code",
   "execution_count": null,
   "metadata": {},
   "outputs": [],
   "source": []
  }
 ],
 "metadata": {
  "kernelspec": {
   "display_name": "Python 3",
   "language": "python",
   "name": "python3"
  },
  "language_info": {
   "codemirror_mode": {
    "name": "ipython",
    "version": 3
   },
   "file_extension": ".py",
   "mimetype": "text/x-python",
   "name": "python",
   "nbconvert_exporter": "python",
   "pygments_lexer": "ipython3",
   "version": "3.6.3"
  }
 },
 "nbformat": 4,
 "nbformat_minor": 4
}
